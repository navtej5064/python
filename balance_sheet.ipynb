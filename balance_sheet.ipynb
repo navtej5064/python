{
 "cells": [
  {
   "cell_type": "code",
   "execution_count": 1,
   "metadata": {},
   "outputs": [],
   "source": [
    "import pandas as pd"
   ]
  },
  {
   "cell_type": "code",
   "execution_count": 2,
   "metadata": {},
   "outputs": [],
   "source": [
    "dict_acc = {'Capital':\t\n",
    "190000,\n",
    "'Cash at Bank':\t\n",
    "2600,\n",
    "'Drawing':\t\n",
    "7000,\n",
    "'Salaries':\n",
    "8000,\n",
    "'Plant and Machinery':\n",
    "120000,\n",
    "'Repairs':\n",
    "1900,\n",
    "'Delivery Vehicle':\t\n",
    "26000,\n",
    "'Stock on 1st April, 2017':\t\n",
    "16000,\n",
    "'Sundry Debtors':\t\n",
    "36000,\n",
    "'Rent':\n",
    "4500,\n",
    "'Sundry Creditors':\t\n",
    "26000,\n",
    "'Manufacturing Expenses':\t\n",
    "1500,\n",
    "'Purchases':\t\n",
    "20000,\n",
    "'Bills Payable':\t\n",
    "23500,\n",
    "'Sales':\t\n",
    "42000,\n",
    "'Bad Debts':\t\n",
    "5000,\n",
    "'Wages':\t\n",
    "8000,\n",
    "'Carriage':\t\n",
    "1600}"
   ]
  },
  {
   "cell_type": "code",
   "execution_count": 3,
   "metadata": {},
   "outputs": [],
   "source": [
    "led = pd.Series(dict_acc)"
   ]
  },
  {
   "cell_type": "code",
   "execution_count": 4,
   "metadata": {},
   "outputs": [
    {
     "name": "stdout",
     "output_type": "stream",
     "text": [
      "enter y or ny\n",
      "enter the debit side parameters: Opening stock\n",
      "enter the amount: 16000\n",
      "enter y or ny\n",
      "enter the debit side parameters: Purchases\n",
      "enter the amount: 20000\n",
      "enter y or ny\n",
      "enter the debit side parameters: Wages\n",
      "enter the amount: 8000\n",
      "enter y or ny\n",
      "enter the debit side parameters: Manufacturing Expenses\n",
      "enter the amount: 1500\n",
      "enter y or ny\n",
      "enter the debit side parameters: Carriage\n",
      "enter the amount: 1600\n",
      "enter y or nn\n"
     ]
    }
   ],
   "source": [
    "\n",
    "alist = []\n",
    "blist = []\n",
    "n = 'y'\n",
    "\n",
    "while n != 'n':\n",
    "    n = input('enter y or n')\n",
    "    if n == 'y':\n",
    "        dic = input('enter the debit side parameters: ')\n",
    "        key = input('enter the amount: ')\n",
    "        alist.append(dic)\n",
    "        blist.append(key)\n",
    "    elif n == 'n':\n",
    "        trading_debit = pd.DataFrame({'parameter':alist,'value':blist})\n",
    "        \n",
    "        tot = {'total sum': trading_debit['value'].sum()}\n",
    "        break\n",
    "    else:\n",
    "        print('enter valid input y or n')"
   ]
  },
  {
   "cell_type": "code",
   "execution_count": 7,
   "metadata": {},
   "outputs": [
    {
     "data": {
      "text/html": [
       "<div>\n",
       "<style scoped>\n",
       "    .dataframe tbody tr th:only-of-type {\n",
       "        vertical-align: middle;\n",
       "    }\n",
       "\n",
       "    .dataframe tbody tr th {\n",
       "        vertical-align: top;\n",
       "    }\n",
       "\n",
       "    .dataframe thead th {\n",
       "        text-align: right;\n",
       "    }\n",
       "</style>\n",
       "<table border=\"1\" class=\"dataframe\">\n",
       "  <thead>\n",
       "    <tr style=\"text-align: right;\">\n",
       "      <th></th>\n",
       "      <th>parameter</th>\n",
       "      <th>value</th>\n",
       "    </tr>\n",
       "  </thead>\n",
       "  <tbody>\n",
       "    <tr>\n",
       "      <th>0</th>\n",
       "      <td>Opening stock</td>\n",
       "      <td>16000</td>\n",
       "    </tr>\n",
       "    <tr>\n",
       "      <th>1</th>\n",
       "      <td>Purchases</td>\n",
       "      <td>20000</td>\n",
       "    </tr>\n",
       "    <tr>\n",
       "      <th>2</th>\n",
       "      <td>Wages</td>\n",
       "      <td>8000</td>\n",
       "    </tr>\n",
       "    <tr>\n",
       "      <th>3</th>\n",
       "      <td>Manufacturing Expenses</td>\n",
       "      <td>1500</td>\n",
       "    </tr>\n",
       "    <tr>\n",
       "      <th>4</th>\n",
       "      <td>Carriage</td>\n",
       "      <td>1600</td>\n",
       "    </tr>\n",
       "  </tbody>\n",
       "</table>\n",
       "</div>"
      ],
      "text/plain": [
       "                parameter  value\n",
       "0           Opening stock  16000\n",
       "1               Purchases  20000\n",
       "2                   Wages   8000\n",
       "3  Manufacturing Expenses   1500\n",
       "4                Carriage   1600"
      ]
     },
     "execution_count": 7,
     "metadata": {},
     "output_type": "execute_result"
    }
   ],
   "source": [
    "trading_debit"
   ]
  },
  {
   "cell_type": "code",
   "execution_count": 25,
   "metadata": {},
   "outputs": [
    {
     "name": "stdout",
     "output_type": "stream",
     "text": [
      "enter y or ny\n",
      "enter the credit side parameters: Sales\n",
      "enter the amount: 42000\n",
      "enter y or ny\n",
      "enter the credit side parameters: Closing Stock\n",
      "enter the amount: 16000\n",
      "enter y or nn\n"
     ]
    }
   ],
   "source": [
    "\n",
    "clist = []\n",
    "dlist = []\n",
    "n = 'y'\n",
    "\n",
    "while n != 'n':\n",
    "    n = input('enter y or n')\n",
    "    if n == 'y':\n",
    "        dic = input('enter the credit side parameters: ')\n",
    "        key = input('enter the amount: ')\n",
    "        clist.append(dic)\n",
    "        dlist.append(key)\n",
    "    elif n == 'n':\n",
    "        trading_df = pd.DataFrame({'parameter':clist,'value':dlist})\n",
    "\n",
    "        total_cr = {'total sum': trading_df['value'].sum()}\n",
    "        break\n",
    "    else:\n",
    "        print('enter valid input y or n')"
   ]
  },
  {
   "cell_type": "code",
   "execution_count": 19,
   "metadata": {},
   "outputs": [
    {
     "name": "stdout",
     "output_type": "stream",
     "text": [
      "enter y or ny\n",
      "enter the debit side parameters: Sales\n",
      "enter the amount: 42000\n",
      "enter y or ny\n",
      "enter the debit side parameters: Closing Stock\n",
      "enter the amount: 16000\n",
      "enter y or nn\n"
     ]
    }
   ],
   "source": [
    "trading_credit()"
   ]
  },
  {
   "cell_type": "code",
   "execution_count": 26,
   "metadata": {},
   "outputs": [
    {
     "data": {
      "text/html": [
       "<div>\n",
       "<style scoped>\n",
       "    .dataframe tbody tr th:only-of-type {\n",
       "        vertical-align: middle;\n",
       "    }\n",
       "\n",
       "    .dataframe tbody tr th {\n",
       "        vertical-align: top;\n",
       "    }\n",
       "\n",
       "    .dataframe thead th {\n",
       "        text-align: right;\n",
       "    }\n",
       "</style>\n",
       "<table border=\"1\" class=\"dataframe\">\n",
       "  <thead>\n",
       "    <tr style=\"text-align: right;\">\n",
       "      <th></th>\n",
       "      <th>parameter</th>\n",
       "      <th>value</th>\n",
       "    </tr>\n",
       "  </thead>\n",
       "  <tbody>\n",
       "    <tr>\n",
       "      <th>0</th>\n",
       "      <td>Sales</td>\n",
       "      <td>42000</td>\n",
       "    </tr>\n",
       "    <tr>\n",
       "      <th>1</th>\n",
       "      <td>Closing Stock</td>\n",
       "      <td>16000</td>\n",
       "    </tr>\n",
       "  </tbody>\n",
       "</table>\n",
       "</div>"
      ],
      "text/plain": [
       "       parameter  value\n",
       "0          Sales  42000\n",
       "1  Closing Stock  16000"
      ]
     },
     "execution_count": 26,
     "metadata": {},
     "output_type": "execute_result"
    }
   ],
   "source": [
    "trading_df"
   ]
  },
  {
   "cell_type": "code",
   "execution_count": null,
   "metadata": {},
   "outputs": [],
   "source": [
    "if tot > total_cr:\n",
    "    trading_df.loc[len(trading_df.index)] = ['gross loss',(tot-total_cr)]"
   ]
  },
  {
   "cell_type": "code",
   "execution_count": 28,
   "metadata": {},
   "outputs": [],
   "source": [
    "sum_cr = trading_df['value'].sum()"
   ]
  },
  {
   "cell_type": "code",
   "execution_count": 32,
   "metadata": {},
   "outputs": [],
   "source": [
    "trading_df['value'] = trading_df['value'].astype(int)"
   ]
  },
  {
   "cell_type": "code",
   "execution_count": 31,
   "metadata": {},
   "outputs": [
    {
     "data": {
      "text/plain": [
       "0    42000\n",
       "1    16000\n",
       "Name: value, dtype: object"
      ]
     },
     "execution_count": 31,
     "metadata": {},
     "output_type": "execute_result"
    }
   ],
   "source": [
    "trading_df['value']\n"
   ]
  },
  {
   "cell_type": "code",
   "execution_count": 33,
   "metadata": {},
   "outputs": [],
   "source": [
    "trading_debit['value'] = trading_debit['value'].astype(int)"
   ]
  },
  {
   "cell_type": "code",
   "execution_count": 34,
   "metadata": {},
   "outputs": [],
   "source": [
    "sum_cr = trading_df['value'].sum()"
   ]
  },
  {
   "cell_type": "code",
   "execution_count": 36,
   "metadata": {},
   "outputs": [],
   "source": [
    "sum_dr = trading_debit['value'].sum()"
   ]
  },
  {
   "cell_type": "code",
   "execution_count": 37,
   "metadata": {},
   "outputs": [
    {
     "data": {
      "text/plain": [
       "47100"
      ]
     },
     "execution_count": 37,
     "metadata": {},
     "output_type": "execute_result"
    }
   ],
   "source": [
    "sum_dr"
   ]
  },
  {
   "cell_type": "code",
   "execution_count": 39,
   "metadata": {},
   "outputs": [],
   "source": [
    "if sum_dr > sum_cr:\n",
    "    trading_df.loc[len(trading_df.index)] = ['gross loss',(sum_dr-sum_cr)]\n",
    "elif sum_cr>sum_dr:\n",
    "    trading_debit.loc[len(trading_debit.index)] = ['gross profit',(sum_cr-sum_dr)]"
   ]
  },
  {
   "cell_type": "code",
   "execution_count": 40,
   "metadata": {},
   "outputs": [
    {
     "data": {
      "text/html": [
       "<div>\n",
       "<style scoped>\n",
       "    .dataframe tbody tr th:only-of-type {\n",
       "        vertical-align: middle;\n",
       "    }\n",
       "\n",
       "    .dataframe tbody tr th {\n",
       "        vertical-align: top;\n",
       "    }\n",
       "\n",
       "    .dataframe thead th {\n",
       "        text-align: right;\n",
       "    }\n",
       "</style>\n",
       "<table border=\"1\" class=\"dataframe\">\n",
       "  <thead>\n",
       "    <tr style=\"text-align: right;\">\n",
       "      <th></th>\n",
       "      <th>parameter</th>\n",
       "      <th>value</th>\n",
       "    </tr>\n",
       "  </thead>\n",
       "  <tbody>\n",
       "    <tr>\n",
       "      <th>0</th>\n",
       "      <td>Opening stock</td>\n",
       "      <td>16000</td>\n",
       "    </tr>\n",
       "    <tr>\n",
       "      <th>1</th>\n",
       "      <td>Purchases</td>\n",
       "      <td>20000</td>\n",
       "    </tr>\n",
       "    <tr>\n",
       "      <th>2</th>\n",
       "      <td>Wages</td>\n",
       "      <td>8000</td>\n",
       "    </tr>\n",
       "    <tr>\n",
       "      <th>3</th>\n",
       "      <td>Manufacturing Expenses</td>\n",
       "      <td>1500</td>\n",
       "    </tr>\n",
       "    <tr>\n",
       "      <th>4</th>\n",
       "      <td>Carriage</td>\n",
       "      <td>1600</td>\n",
       "    </tr>\n",
       "    <tr>\n",
       "      <th>5</th>\n",
       "      <td>gross profit</td>\n",
       "      <td>10900</td>\n",
       "    </tr>\n",
       "  </tbody>\n",
       "</table>\n",
       "</div>"
      ],
      "text/plain": [
       "                parameter  value\n",
       "0           Opening stock  16000\n",
       "1               Purchases  20000\n",
       "2                   Wages   8000\n",
       "3  Manufacturing Expenses   1500\n",
       "4                Carriage   1600\n",
       "5            gross profit  10900"
      ]
     },
     "execution_count": 40,
     "metadata": {},
     "output_type": "execute_result"
    }
   ],
   "source": [
    "trading_debit"
   ]
  },
  {
   "cell_type": "code",
   "execution_count": 41,
   "metadata": {},
   "outputs": [],
   "source": [
    "result = pd.concat([trading_debit, trading_df], axis=1).reindex(trading_debit.index)"
   ]
  },
  {
   "cell_type": "code",
   "execution_count": 42,
   "metadata": {},
   "outputs": [
    {
     "data": {
      "text/html": [
       "<div>\n",
       "<style scoped>\n",
       "    .dataframe tbody tr th:only-of-type {\n",
       "        vertical-align: middle;\n",
       "    }\n",
       "\n",
       "    .dataframe tbody tr th {\n",
       "        vertical-align: top;\n",
       "    }\n",
       "\n",
       "    .dataframe thead th {\n",
       "        text-align: right;\n",
       "    }\n",
       "</style>\n",
       "<table border=\"1\" class=\"dataframe\">\n",
       "  <thead>\n",
       "    <tr style=\"text-align: right;\">\n",
       "      <th></th>\n",
       "      <th>parameter</th>\n",
       "      <th>value</th>\n",
       "      <th>parameter</th>\n",
       "      <th>value</th>\n",
       "    </tr>\n",
       "  </thead>\n",
       "  <tbody>\n",
       "    <tr>\n",
       "      <th>0</th>\n",
       "      <td>Opening stock</td>\n",
       "      <td>16000</td>\n",
       "      <td>Sales</td>\n",
       "      <td>42000.0</td>\n",
       "    </tr>\n",
       "    <tr>\n",
       "      <th>1</th>\n",
       "      <td>Purchases</td>\n",
       "      <td>20000</td>\n",
       "      <td>Closing Stock</td>\n",
       "      <td>16000.0</td>\n",
       "    </tr>\n",
       "    <tr>\n",
       "      <th>2</th>\n",
       "      <td>Wages</td>\n",
       "      <td>8000</td>\n",
       "      <td>NaN</td>\n",
       "      <td>NaN</td>\n",
       "    </tr>\n",
       "    <tr>\n",
       "      <th>3</th>\n",
       "      <td>Manufacturing Expenses</td>\n",
       "      <td>1500</td>\n",
       "      <td>NaN</td>\n",
       "      <td>NaN</td>\n",
       "    </tr>\n",
       "    <tr>\n",
       "      <th>4</th>\n",
       "      <td>Carriage</td>\n",
       "      <td>1600</td>\n",
       "      <td>NaN</td>\n",
       "      <td>NaN</td>\n",
       "    </tr>\n",
       "    <tr>\n",
       "      <th>5</th>\n",
       "      <td>gross profit</td>\n",
       "      <td>10900</td>\n",
       "      <td>NaN</td>\n",
       "      <td>NaN</td>\n",
       "    </tr>\n",
       "  </tbody>\n",
       "</table>\n",
       "</div>"
      ],
      "text/plain": [
       "                parameter  value      parameter    value\n",
       "0           Opening stock  16000          Sales  42000.0\n",
       "1               Purchases  20000  Closing Stock  16000.0\n",
       "2                   Wages   8000            NaN      NaN\n",
       "3  Manufacturing Expenses   1500            NaN      NaN\n",
       "4                Carriage   1600            NaN      NaN\n",
       "5            gross profit  10900            NaN      NaN"
      ]
     },
     "execution_count": 42,
     "metadata": {},
     "output_type": "execute_result"
    }
   ],
   "source": [
    "result"
   ]
  },
  {
   "cell_type": "code",
   "execution_count": 43,
   "metadata": {},
   "outputs": [
    {
     "data": {
      "text/html": [
       "<div>\n",
       "<style scoped>\n",
       "    .dataframe tbody tr th:only-of-type {\n",
       "        vertical-align: middle;\n",
       "    }\n",
       "\n",
       "    .dataframe tbody tr th {\n",
       "        vertical-align: top;\n",
       "    }\n",
       "\n",
       "    .dataframe thead th {\n",
       "        text-align: right;\n",
       "    }\n",
       "</style>\n",
       "<table border=\"1\" class=\"dataframe\">\n",
       "  <thead>\n",
       "    <tr style=\"text-align: right;\">\n",
       "      <th></th>\n",
       "      <th>parameter</th>\n",
       "      <th>value</th>\n",
       "      <th>parameter</th>\n",
       "      <th>value</th>\n",
       "    </tr>\n",
       "  </thead>\n",
       "  <tbody>\n",
       "    <tr>\n",
       "      <th>0</th>\n",
       "      <td>Opening stock</td>\n",
       "      <td>16000</td>\n",
       "      <td>Sales</td>\n",
       "      <td>42000</td>\n",
       "    </tr>\n",
       "    <tr>\n",
       "      <th>1</th>\n",
       "      <td>Purchases</td>\n",
       "      <td>20000</td>\n",
       "      <td>Closing Stock</td>\n",
       "      <td>16000</td>\n",
       "    </tr>\n",
       "    <tr>\n",
       "      <th>2</th>\n",
       "      <td>Wages</td>\n",
       "      <td>8000</td>\n",
       "      <td></td>\n",
       "      <td></td>\n",
       "    </tr>\n",
       "    <tr>\n",
       "      <th>3</th>\n",
       "      <td>Manufacturing Expenses</td>\n",
       "      <td>1500</td>\n",
       "      <td></td>\n",
       "      <td></td>\n",
       "    </tr>\n",
       "    <tr>\n",
       "      <th>4</th>\n",
       "      <td>Carriage</td>\n",
       "      <td>1600</td>\n",
       "      <td></td>\n",
       "      <td></td>\n",
       "    </tr>\n",
       "    <tr>\n",
       "      <th>5</th>\n",
       "      <td>gross profit</td>\n",
       "      <td>10900</td>\n",
       "      <td></td>\n",
       "      <td></td>\n",
       "    </tr>\n",
       "  </tbody>\n",
       "</table>\n",
       "</div>"
      ],
      "text/plain": [
       "                parameter  value      parameter  value\n",
       "0           Opening stock  16000          Sales  42000\n",
       "1               Purchases  20000  Closing Stock  16000\n",
       "2                   Wages   8000                      \n",
       "3  Manufacturing Expenses   1500                      \n",
       "4                Carriage   1600                      \n",
       "5            gross profit  10900                      "
      ]
     },
     "execution_count": 43,
     "metadata": {},
     "output_type": "execute_result"
    }
   ],
   "source": [
    "result.fillna(\" \")"
   ]
  },
  {
   "cell_type": "code",
   "execution_count": 46,
   "metadata": {},
   "outputs": [
    {
     "name": "stdout",
     "output_type": "stream",
     "text": [
      "enter y or ny\n",
      "enter the credit side parameters: Salaries\n",
      "enter the amount: 8000\n",
      "enter y or ny\n",
      "enter the credit side parameters: Repairs\n",
      "enter the amount: 1900\n",
      "enter y or ny\n",
      "enter the credit side parameters: Rent\n",
      "enter the amount: 5000\n",
      "enter y or ny\n",
      "enter the credit side parameters: Bad Debts\n",
      "enter the amount: 5000\n",
      "enter y or ny\n",
      "enter the credit side parameters: Depreciation on machinery\n",
      "enter the amount: 12000\n",
      "enter y or ny\n",
      "enter the credit side parameters: Depreciation on vehicle\n",
      "enter the amount: 3900\n",
      "enter y or nn\n"
     ]
    }
   ],
   "source": [
    "#profit and loss account\n",
    "elist = []\n",
    "flist = []\n",
    "n = 'y'\n",
    "\n",
    "while n != 'n':\n",
    "    n = input('enter y or n')\n",
    "    if n == 'y':\n",
    "        dic = input('enter the credit side parameters: ')\n",
    "        key = input('enter the amount: ')\n",
    "        elist.append(dic)\n",
    "        flist.append(key)\n",
    "    elif n == 'n':\n",
    "        pl_dr = pd.DataFrame({'parameter':elist,'Amount':flist})\n",
    "        pl_dr['Amount'] =  pl_dr['Amount'].astype(int)\n",
    "        pl_dr_sum =  pl_dr['Amount'].sum()\n",
    "        break\n",
    "    else:\n",
    "        print('enter valid input y or n')"
   ]
  },
  {
   "cell_type": "code",
   "execution_count": 47,
   "metadata": {},
   "outputs": [
    {
     "name": "stdout",
     "output_type": "stream",
     "text": [
      "enter y or ny\n",
      "enter the credit side parameters: Gross profit\n",
      "enter the amount: 10900\n",
      "enter y or nn\n"
     ]
    }
   ],
   "source": [
    "glist = []\n",
    "hlist = []\n",
    "n = 'y'\n",
    "\n",
    "while n != 'n':\n",
    "    n = input('enter y or n')\n",
    "    if n == 'y':\n",
    "        dic = input('enter the credit side parameters: ')\n",
    "        key = input('enter the amount: ')\n",
    "        glist.append(dic)\n",
    "        hlist.append(key)\n",
    "    elif n == 'n':\n",
    "        pl_cr = pd.DataFrame({'parameter':glist,'Amount':hlist})\n",
    "        pl_cr['Amount'] =  pl_cr['Amount'].astype(int)\n",
    "        pl_cr_sum =  pl_cr['Amount'].sum()\n",
    "        break\n",
    "    else:\n",
    "        print('enter valid input y or n')"
   ]
  },
  {
   "cell_type": "code",
   "execution_count": 52,
   "metadata": {},
   "outputs": [
    {
     "data": {
      "text/plain": [
       "numpy.int64"
      ]
     },
     "execution_count": 52,
     "metadata": {},
     "output_type": "execute_result"
    }
   ],
   "source": [
    "type(pl_cr_sum)"
   ]
  },
  {
   "cell_type": "code",
   "execution_count": 49,
   "metadata": {},
   "outputs": [
    {
     "data": {
      "text/plain": [
       "35800"
      ]
     },
     "execution_count": 49,
     "metadata": {},
     "output_type": "execute_result"
    }
   ],
   "source": [
    "pl_dr_sum\n",
    "\n",
    "if sum_dr > sum_cr:\n",
    "    trading_df.loc[len(trading_df.index)] = ['gross loss',(sum_dr-sum_cr)]\n",
    "elif sum_cr>sum_dr:\n",
    "    trading_debit.loc[len(trading_debit.index)] = ['gross profit',(sum_cr-sum_dr)]"
   ]
  },
  {
   "cell_type": "code",
   "execution_count": 53,
   "metadata": {},
   "outputs": [],
   "source": [
    "if pl_dr_sum> pl_cr_sum:\n",
    "    pl_cr.loc[len(pl_cr.index)] = ['Net Loss',(pl_dr_sum - pl_cr_sum)]\n",
    "elif pl_dr_sum < pl_cr_sum:\n",
    "    pl_dr.loc[len(pl_dr.index)] = ['Net Profit',(pl_cr_sum - pl_dr_sum)]"
   ]
  },
  {
   "cell_type": "code",
   "execution_count": 57,
   "metadata": {},
   "outputs": [],
   "source": [
    "profit_loss = pd.concat([pl_dr,pl_cr],axis=1).reindex(pl_dr.index)"
   ]
  },
  {
   "cell_type": "code",
   "execution_count": 58,
   "metadata": {},
   "outputs": [
    {
     "data": {
      "text/html": [
       "<div>\n",
       "<style scoped>\n",
       "    .dataframe tbody tr th:only-of-type {\n",
       "        vertical-align: middle;\n",
       "    }\n",
       "\n",
       "    .dataframe tbody tr th {\n",
       "        vertical-align: top;\n",
       "    }\n",
       "\n",
       "    .dataframe thead th {\n",
       "        text-align: right;\n",
       "    }\n",
       "</style>\n",
       "<table border=\"1\" class=\"dataframe\">\n",
       "  <thead>\n",
       "    <tr style=\"text-align: right;\">\n",
       "      <th></th>\n",
       "      <th>parameter</th>\n",
       "      <th>Amount</th>\n",
       "      <th>parameter</th>\n",
       "      <th>Amount</th>\n",
       "    </tr>\n",
       "  </thead>\n",
       "  <tbody>\n",
       "    <tr>\n",
       "      <th>0</th>\n",
       "      <td>Salaries</td>\n",
       "      <td>8000</td>\n",
       "      <td>Gross profit</td>\n",
       "      <td>10900.0</td>\n",
       "    </tr>\n",
       "    <tr>\n",
       "      <th>1</th>\n",
       "      <td>Repairs</td>\n",
       "      <td>1900</td>\n",
       "      <td>Net Loss</td>\n",
       "      <td>24900.0</td>\n",
       "    </tr>\n",
       "    <tr>\n",
       "      <th>2</th>\n",
       "      <td>Rent</td>\n",
       "      <td>5000</td>\n",
       "      <td>NaN</td>\n",
       "      <td>NaN</td>\n",
       "    </tr>\n",
       "    <tr>\n",
       "      <th>3</th>\n",
       "      <td>Bad Debts</td>\n",
       "      <td>5000</td>\n",
       "      <td>NaN</td>\n",
       "      <td>NaN</td>\n",
       "    </tr>\n",
       "    <tr>\n",
       "      <th>4</th>\n",
       "      <td>Depreciation on machinery</td>\n",
       "      <td>12000</td>\n",
       "      <td>NaN</td>\n",
       "      <td>NaN</td>\n",
       "    </tr>\n",
       "    <tr>\n",
       "      <th>5</th>\n",
       "      <td>Depreciation on vehicle</td>\n",
       "      <td>3900</td>\n",
       "      <td>NaN</td>\n",
       "      <td>NaN</td>\n",
       "    </tr>\n",
       "  </tbody>\n",
       "</table>\n",
       "</div>"
      ],
      "text/plain": [
       "                   parameter  Amount     parameter   Amount\n",
       "0                   Salaries    8000  Gross profit  10900.0\n",
       "1                    Repairs    1900      Net Loss  24900.0\n",
       "2                       Rent    5000           NaN      NaN\n",
       "3                  Bad Debts    5000           NaN      NaN\n",
       "4  Depreciation on machinery   12000           NaN      NaN\n",
       "5    Depreciation on vehicle    3900           NaN      NaN"
      ]
     },
     "execution_count": 58,
     "metadata": {},
     "output_type": "execute_result"
    }
   ],
   "source": [
    "profit_loss"
   ]
  },
  {
   "cell_type": "code",
   "execution_count": 59,
   "metadata": {},
   "outputs": [
    {
     "data": {
      "text/html": [
       "<div>\n",
       "<style scoped>\n",
       "    .dataframe tbody tr th:only-of-type {\n",
       "        vertical-align: middle;\n",
       "    }\n",
       "\n",
       "    .dataframe tbody tr th {\n",
       "        vertical-align: top;\n",
       "    }\n",
       "\n",
       "    .dataframe thead th {\n",
       "        text-align: right;\n",
       "    }\n",
       "</style>\n",
       "<table border=\"1\" class=\"dataframe\">\n",
       "  <thead>\n",
       "    <tr style=\"text-align: right;\">\n",
       "      <th></th>\n",
       "      <th>parameter</th>\n",
       "      <th>Amount</th>\n",
       "      <th>parameter</th>\n",
       "      <th>Amount</th>\n",
       "    </tr>\n",
       "  </thead>\n",
       "  <tbody>\n",
       "    <tr>\n",
       "      <th>0</th>\n",
       "      <td>Salaries</td>\n",
       "      <td>8000</td>\n",
       "      <td>Gross profit</td>\n",
       "      <td>10900</td>\n",
       "    </tr>\n",
       "    <tr>\n",
       "      <th>1</th>\n",
       "      <td>Repairs</td>\n",
       "      <td>1900</td>\n",
       "      <td>Net Loss</td>\n",
       "      <td>24900</td>\n",
       "    </tr>\n",
       "    <tr>\n",
       "      <th>2</th>\n",
       "      <td>Rent</td>\n",
       "      <td>5000</td>\n",
       "      <td></td>\n",
       "      <td></td>\n",
       "    </tr>\n",
       "    <tr>\n",
       "      <th>3</th>\n",
       "      <td>Bad Debts</td>\n",
       "      <td>5000</td>\n",
       "      <td></td>\n",
       "      <td></td>\n",
       "    </tr>\n",
       "    <tr>\n",
       "      <th>4</th>\n",
       "      <td>Depreciation on machinery</td>\n",
       "      <td>12000</td>\n",
       "      <td></td>\n",
       "      <td></td>\n",
       "    </tr>\n",
       "    <tr>\n",
       "      <th>5</th>\n",
       "      <td>Depreciation on vehicle</td>\n",
       "      <td>3900</td>\n",
       "      <td></td>\n",
       "      <td></td>\n",
       "    </tr>\n",
       "  </tbody>\n",
       "</table>\n",
       "</div>"
      ],
      "text/plain": [
       "                   parameter Amount     parameter Amount\n",
       "0                   Salaries   8000  Gross profit  10900\n",
       "1                    Repairs   1900      Net Loss  24900\n",
       "2                       Rent   5000                     \n",
       "3                  Bad Debts   5000                     \n",
       "4  Depreciation on machinery  12000                     \n",
       "5    Depreciation on vehicle   3900                     "
      ]
     },
     "execution_count": 59,
     "metadata": {},
     "output_type": "execute_result"
    }
   ],
   "source": [
    "profit_loss.fillna(' ')"
   ]
  },
  {
   "cell_type": "code",
   "execution_count": null,
   "metadata": {},
   "outputs": [],
   "source": [
    "#Total balance sheet\n",
    "\n"
   ]
  }
 ],
 "metadata": {
  "kernelspec": {
   "display_name": "Python 3",
   "language": "python",
   "name": "python3"
  },
  "language_info": {
   "codemirror_mode": {
    "name": "ipython",
    "version": 3
   },
   "file_extension": ".py",
   "mimetype": "text/x-python",
   "name": "python",
   "nbconvert_exporter": "python",
   "pygments_lexer": "ipython3",
   "version": "3.8.5"
  }
 },
 "nbformat": 4,
 "nbformat_minor": 4
}
